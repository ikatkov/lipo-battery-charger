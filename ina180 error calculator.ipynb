{
 "cells": [
  {
   "cell_type": "code",
   "execution_count": 1,
   "id": "1529494b",
   "metadata": {},
   "outputs": [],
   "source": [
    "from IPython.display import Markdown as md\n",
    "import math "
   ]
  },
  {
   "cell_type": "code",
   "execution_count": 2,
   "id": "3cb9cb08",
   "metadata": {},
   "outputs": [],
   "source": [
    "V_CMDS = 12\n",
    "V_CMSYS = 5\n",
    "CMRR_MIN = 146\n",
    "VS_SYS = 5\n",
    "VS_DS = 5\n",
    "PSRR_MIN = 1111\n",
    "T1 = 25\n",
    "T2 = 120\n",
    "SHUNT_VOS_DRIFT = 0.01e-6\n",
    "\n",
    "G_err25c = 0.001 # %0.1\n",
    "R_shunt = 0.1\n",
    "A_shunt = 0.01\n",
    "V_shunt = A_shunt * R_shunt \n",
    "LSB_Vshunt = 312e-9"
   ]
  },
  {
   "cell_type": "markdown",
   "id": "d543634c",
   "metadata": {},
   "source": [
    "## Determine the maximum offset for $V_{SHUNT}$ measurement"
   ]
  },
  {
   "cell_type": "markdown",
   "id": "59a7d5b3",
   "metadata": {},
   "source": [
    "$V_{OS_{total}} = V_{OSI} + V_{OS_{CMRR}} + V_{OS_{PSRR}} + V_{OS_{drift}}$"
   ]
  },
  {
   "cell_type": "code",
   "execution_count": 3,
   "id": "c85334ec",
   "metadata": {
    "scrolled": true
   },
   "outputs": [
    {
     "data": {
      "text/markdown": [
       "Datasheet says $V_{OSI}$ = 0.0005 V i.e. 500.0 uV"
      ],
      "text/plain": [
       "<IPython.core.display.Markdown object>"
      ]
     },
     "execution_count": 3,
     "metadata": {},
     "output_type": "execute_result"
    }
   ],
   "source": [
    "V_OSI = 500e-06\n",
    "md(\"Datasheet says $V_{{OSI}}$ = {} V i.e. {} uV\".format(V_OSI,V_OSI*1000000))"
   ]
  },
  {
   "cell_type": "markdown",
   "id": "03e1b63a",
   "metadata": {},
   "source": [
    "$V_{OS_{CMRR}} = |V_{CM}-V_{CMDS}| * 10^{-\\frac{CMRR_{MIN}}{20dB}} $"
   ]
  },
  {
   "cell_type": "code",
   "execution_count": 4,
   "id": "27e92727",
   "metadata": {
    "scrolled": true
   },
   "outputs": [
    {
     "data": {
      "text/markdown": [
       "$V_{OS_{CMRR}}$ = 3.5083106353909075e-07 V i.e. 0.35083106353909077 uV"
      ],
      "text/plain": [
       "<IPython.core.display.Markdown object>"
      ]
     },
     "execution_count": 4,
     "metadata": {},
     "output_type": "execute_result"
    }
   ],
   "source": [
    "V_OS_cmrr = math.fabs(V_CMDS - V_CMSYS)*math.pow(10,-(CMRR_MIN/20))\n",
    "md(\"$V_{{OS_{{CMRR}}}}$ = {} V i.e. {} uV\".format(V_OS_cmrr,V_OS_cmrr*1000000))"
   ]
  },
  {
   "cell_type": "markdown",
   "id": "bab67e5c",
   "metadata": {},
   "source": [
    "$ V_{OS_{PSRR}} = |VS_{DS}-VS_{SYS}| * PSRR_{MIN} $"
   ]
  },
  {
   "cell_type": "code",
   "execution_count": 5,
   "id": "4889f61c",
   "metadata": {},
   "outputs": [
    {
     "data": {
      "text/markdown": [
       "$V_{OS_{PSRR}}$ = 0.0 V i.e. 0.0 uV"
      ],
      "text/plain": [
       "<IPython.core.display.Markdown object>"
      ]
     },
     "execution_count": 5,
     "metadata": {},
     "output_type": "execute_result"
    }
   ],
   "source": [
    "V_OS_psrr = math.fabs(VS_SYS - VS_DS)*PSRR_MIN\n",
    "md(\"$V_{{OS_{{PSRR}}}}$ = {} V i.e. {} uV\".format(V_OS_psrr,V_OS_psrr*1000000))"
   ]
  },
  {
   "cell_type": "markdown",
   "id": "7ac65d65",
   "metadata": {},
   "source": [
    "$ V_{OS_{drift}} = |\\Delta T| * \\frac{\\delta V_{OS}}{\\delta T} $"
   ]
  },
  {
   "cell_type": "code",
   "execution_count": 6,
   "id": "de18a54c",
   "metadata": {},
   "outputs": [
    {
     "data": {
      "text/markdown": [
       "$V_{OS_{drift}}$ = 9.5e-07 V i.e. 0.95 uV"
      ],
      "text/plain": [
       "<IPython.core.display.Markdown object>"
      ]
     },
     "execution_count": 6,
     "metadata": {},
     "output_type": "execute_result"
    }
   ],
   "source": [
    "V_OS_drift = math.fabs(T1-T2) * SHUNT_VOS_DRIFT\n",
    "md(\"$V_{{OS_{{drift}}}}$ = {} V i.e. {} uV\".format(V_OS_drift,V_OS_drift*1000000))"
   ]
  },
  {
   "cell_type": "code",
   "execution_count": 7,
   "id": "8ffda4d3",
   "metadata": {},
   "outputs": [
    {
     "data": {
      "text/markdown": [
       "$V_{OS_{total}}$ = 0.000501300831063539 V i.e. 501.300831063539 uV"
      ],
      "text/plain": [
       "<IPython.core.display.Markdown object>"
      ]
     },
     "execution_count": 7,
     "metadata": {},
     "output_type": "execute_result"
    }
   ],
   "source": [
    "V_OS_total = V_OSI+V_OS_cmrr+V_OS_psrr+V_OS_drift\n",
    "md(\"$V_{{OS_{{total}}}}$ = {} V i.e. {} uV\".format(V_OS_total,V_OS_total*1000000))"
   ]
  },
  {
   "cell_type": "markdown",
   "id": "9b61ca71",
   "metadata": {},
   "source": [
    "## Error"
   ]
  },
  {
   "cell_type": "markdown",
   "id": "ba49603b",
   "metadata": {},
   "source": [
    "$ e = \\sqrt{ (V_{OSI} * V_{shunt} + | V_{CMDS} - V_{CMSYS}| * V_{OS_{CMRR}} + |VS_{SYS} - VS_{DS}| * V_{OS_{PSRR}})^2 + e_{GN}^2 } $"
   ]
  },
  {
   "cell_type": "code",
   "execution_count": 8,
   "id": "490fd800",
   "metadata": {},
   "outputs": [
    {
     "name": "stdout",
     "output_type": "stream",
     "text": [
      "V_shunt =  0.001\n",
      "e_vos= 4.9999999999999996e-05\n",
      "cmrr= 6.309573444801929e-05\n",
      "e_cmrr= 44.167014113613504\n",
      "e2= 1951.7251357146345\n",
      "sqrt(e2)= 44.1783333288461\n",
      "----\n",
      "e_test= 19.517295524160456\n",
      "sqrt(e_test)= 44.178383316007\n"
     ]
    }
   ],
   "source": [
    "print(\"V_shunt = \", V_shunt)\n",
    "e_vos = V_OSI * V_shunt\n",
    "print(\"e_vos=\",e_vos*100)\n",
    "\n",
    "cmrr = math.pow(10, -84/20)\n",
    "print(\"cmrr=\",cmrr)\n",
    "e_cmrr = (math.fabs(V_CMDS - V_CMSYS)*cmrr)/V_shunt\n",
    "print(\"e_cmrr=\",e_cmrr*100)\n",
    "\n",
    "eGain = 0.01\n",
    "\n",
    "e2 = math.pow(e_vos*100,2) + math.pow(e_cmrr*100,2) + math.pow(eGain*100,2)\n",
    "print(\"e2=\", e2)\n",
    "print(\"sqrt(e2)=\",math.sqrt(e2))\n",
    "print(\"----\")\n",
    "e_test = math.pow(e_vos + e_cmrr,2) + math.pow(eGain,2)\n",
    "print(\"e_test=\",e_test*100)\n",
    "print(\"sqrt(e_test)=\",math.sqrt(e_test)*100)\n",
    "\n",
    "#e = math.sqrt( math.pow(V_OSI * V_shunt + (math.fabs(V_CMDS - V_CMSYS)*cmrr)/V_shunt + math.fabs(VS_SYS - VS_DS)*V_OS_psrr,2)+math.pow(G_err25c,2))\n",
    "#print(e)\n",
    "#print(e*100)\n",
    "#print((math.fabs(V_CMDS - V_CMSYS)*cmrr)/V_shunt)\n",
    "\n"
   ]
  },
  {
   "cell_type": "markdown",
   "id": "dc19adad",
   "metadata": {},
   "source": [
    "## Determine the maximum ADC gain error for $V_{SHUNT}$ measurement\n",
    "\n",
    "$G_{err\\_drift} = |\\Delta T | * 20ppm $"
   ]
  },
  {
   "cell_type": "code",
   "execution_count": 9,
   "id": "f7a33140",
   "metadata": {},
   "outputs": [
    {
     "data": {
      "text/markdown": [
       "$G_{err\\_drift}$ = 0.0019000000000000002"
      ],
      "text/plain": [
       "<IPython.core.display.Markdown object>"
      ]
     },
     "execution_count": 9,
     "metadata": {},
     "output_type": "execute_result"
    }
   ],
   "source": [
    "G_err_drift = math.fabs(T1-T2) * 20e-6\n",
    "md(\"$G_{{err\\_drift}}$ = {}\".format(G_err_drift))"
   ]
  },
  {
   "cell_type": "code",
   "execution_count": 10,
   "id": "667238c0",
   "metadata": {},
   "outputs": [
    {
     "data": {
      "text/markdown": [
       "$G_{err\\_total}$ = 0.0029000000000000002"
      ],
      "text/plain": [
       "<IPython.core.display.Markdown object>"
      ]
     },
     "execution_count": 10,
     "metadata": {},
     "output_type": "execute_result"
    }
   ],
   "source": [
    "G_err_total = G_err25c + G_err_drift\n",
    "md(\"$G_{{err\\_total}}$ = {}\".format(G_err_total))"
   ]
  },
  {
   "cell_type": "markdown",
   "id": "ba8302f2",
   "metadata": {},
   "source": [
    "## Convert to digital codes and calculate total error at 1 mA load"
   ]
  },
  {
   "cell_type": "markdown",
   "id": "1967ead6",
   "metadata": {},
   "source": [
    "$ G_{IDEAL} = \\frac{1}{LSB_{V_{SHUNT}}} $"
   ]
  },
  {
   "cell_type": "code",
   "execution_count": 11,
   "id": "3b5672bd",
   "metadata": {},
   "outputs": [
    {
     "data": {
      "text/markdown": [
       "$G_{IDEAL}$ = 3205128.2051282055"
      ],
      "text/plain": [
       "<IPython.core.display.Markdown object>"
      ]
     },
     "execution_count": 11,
     "metadata": {},
     "output_type": "execute_result"
    }
   ],
   "source": [
    "G_IDEAL = 1/LSB_Vshunt\n",
    "md(\"$G_{{IDEAL}}$ = {}\".format(G_IDEAL))"
   ]
  },
  {
   "cell_type": "code",
   "execution_count": null,
   "id": "6aec6dd7",
   "metadata": {},
   "outputs": [],
   "source": []
  }
 ],
 "metadata": {
  "kernelspec": {
   "display_name": "Python 3.9.12 64-bit",
   "language": "python",
   "name": "python3"
  },
  "language_info": {
   "codemirror_mode": {
    "name": "ipython",
    "version": 3
   },
   "file_extension": ".py",
   "mimetype": "text/x-python",
   "name": "python",
   "nbconvert_exporter": "python",
   "pygments_lexer": "ipython3",
   "version": "3.9.12"
  },
  "vscode": {
   "interpreter": {
    "hash": "aee8b7b246df8f9039afb4144a1f6fd8d2ca17a180786b69acc140d282b71a49"
   }
  }
 },
 "nbformat": 4,
 "nbformat_minor": 5
}

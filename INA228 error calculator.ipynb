{
 "cells": [
  {
   "cell_type": "code",
   "execution_count": 50,
   "id": "1529494b",
   "metadata": {},
   "outputs": [],
   "source": [
    "from IPython.display import Markdown as md\n",
    "import math "
   ]
  },
  {
   "cell_type": "code",
   "execution_count": 51,
   "id": "3cb9cb08",
   "metadata": {},
   "outputs": [],
   "source": [
    "V_CMDS = 48\n",
    "V_CMSYS = 85\n",
    "CMRR_MIN = 146\n",
    "VS_SYS = 3.3\n",
    "VS_DS = 3.3\n",
    "PSRR_MIN = 1111\n",
    "T1 = 25\n",
    "T2 = 120\n",
    "SHUNT_VOS_DRIFT = 0.01e-6\n",
    "\n",
    "G_err25c = 0.001 # %0.1\n",
    "R_shunt = 0.1\n",
    "V_shunt = 100e-6\n",
    "LSB_Vshunt = 312e-9"
   ]
  },
  {
   "cell_type": "markdown",
   "id": "11fbbe1d",
   "metadata": {},
   "source": [
    "## Determine the maximum offset for $V_{SHUNT}$ measurement"
   ]
  },
  {
   "cell_type": "markdown",
   "id": "59a7d5b3",
   "metadata": {},
   "source": [
    "$V_{OS_{total}} = V_{OSI} + V_{OS_{CMRR}} + V_{OS_{PSRR}} + V_{OS_{drift}}$"
   ]
  },
  {
   "cell_type": "code",
   "execution_count": 52,
   "id": "c85334ec",
   "metadata": {
    "scrolled": true
   },
   "outputs": [
    {
     "data": {
      "text/markdown": [
       "Datasheet says $V_{OSI}$ = 2e-06 V i.e. 2.0 uV"
      ],
      "text/plain": [
       "<IPython.core.display.Markdown object>"
      ]
     },
     "execution_count": 52,
     "metadata": {},
     "output_type": "execute_result"
    }
   ],
   "source": [
    "V_OSI = 2e-06\n",
    "md(\"Datasheet says $V_{{OSI}}$ = {} V i.e. {} uV\".format(V_OSI,V_OSI*1000000))"
   ]
  },
  {
   "cell_type": "markdown",
   "id": "03e1b63a",
   "metadata": {},
   "source": [
    "$V_{OS_{CMRR}} = |V_{CM}-V_{CMDS}| * 10^{-\\frac{CMRR_{MIN}}{20dB}} $"
   ]
  },
  {
   "cell_type": "code",
   "execution_count": 53,
   "id": "27e92727",
   "metadata": {
    "scrolled": true
   },
   "outputs": [
    {
     "data": {
      "text/markdown": [
       "$V_{OS_{CMRR}}$ = 1.8543927644209082e-06 V i.e. 1.8543927644209082 uV"
      ],
      "text/plain": [
       "<IPython.core.display.Markdown object>"
      ]
     },
     "execution_count": 53,
     "metadata": {},
     "output_type": "execute_result"
    }
   ],
   "source": [
    "V_OS_cmrr = math.fabs(V_CMDS - V_CMSYS)*math.pow(10,-(CMRR_MIN/20))\n",
    "md(\"$V_{{OS_{{CMRR}}}}$ = {} V i.e. {} uV\".format(V_OS_cmrr,V_OS_cmrr*1000000))"
   ]
  },
  {
   "cell_type": "markdown",
   "id": "04e0f083",
   "metadata": {},
   "source": [
    "$ V_{OS_{PSRR}} = |VS_{DS}-VS_{SYS}| * PSRR_{MIN} $"
   ]
  },
  {
   "cell_type": "code",
   "execution_count": 54,
   "id": "7d446bf2",
   "metadata": {},
   "outputs": [
    {
     "data": {
      "text/markdown": [
       "$V_{OS_{PSRR}}$ = 0.0 V i.e. 0.0 uV"
      ],
      "text/plain": [
       "<IPython.core.display.Markdown object>"
      ]
     },
     "execution_count": 54,
     "metadata": {},
     "output_type": "execute_result"
    }
   ],
   "source": [
    "V_OS_psrr = math.fabs(VS_SYS - VS_DS)*PSRR_MIN\n",
    "md(\"$V_{{OS_{{PSRR}}}}$ = {} V i.e. {} uV\".format(V_OS_psrr,V_OS_psrr*1000000))"
   ]
  },
  {
   "cell_type": "markdown",
   "id": "6fac7968",
   "metadata": {},
   "source": [
    "$ V_{OS_{drift}} = |\\Delta T| * \\frac{\\delta V_{OS}}{\\delta T} $"
   ]
  },
  {
   "cell_type": "code",
   "execution_count": 55,
   "id": "c6b1049b",
   "metadata": {},
   "outputs": [
    {
     "data": {
      "text/markdown": [
       "$V_{OS_{drift}}$ = 9.5e-07 V i.e. 0.95 uV"
      ],
      "text/plain": [
       "<IPython.core.display.Markdown object>"
      ]
     },
     "execution_count": 55,
     "metadata": {},
     "output_type": "execute_result"
    }
   ],
   "source": [
    "V_OS_drift = math.fabs(T1-T2) * SHUNT_VOS_DRIFT\n",
    "md(\"$V_{{OS_{{drift}}}}$ = {} V i.e. {} uV\".format(V_OS_drift,V_OS_drift*1000000))"
   ]
  },
  {
   "cell_type": "code",
   "execution_count": 56,
   "id": "bc61d83a",
   "metadata": {},
   "outputs": [
    {
     "data": {
      "text/markdown": [
       "$V_{OS_{total}}$ = 4.804392764420908e-06 V i.e. 4.804392764420908 uV"
      ],
      "text/plain": [
       "<IPython.core.display.Markdown object>"
      ]
     },
     "execution_count": 56,
     "metadata": {},
     "output_type": "execute_result"
    }
   ],
   "source": [
    "V_OS_total = V_OSI+V_OS_cmrr+V_OS_psrr+V_OS_drift\n",
    "md(\"$V_{{OS_{{total}}}}$ = {} V i.e. {} uV\".format(V_OS_total,V_OS_total*1000000))"
   ]
  },
  {
   "cell_type": "markdown",
   "id": "b0793bf9",
   "metadata": {},
   "source": [
    "## Error"
   ]
  },
  {
   "cell_type": "markdown",
   "id": "4d8cf9b6",
   "metadata": {},
   "source": [
    "$ e = \\sqrt{ (V_{OSI} * V_{shunt} + | V_{CMDS} - V_{CMSYS}| * V_{OS_{CMRR}} + |VS_{SYS} - VS_{DS}| * V_{OS_{PSRR}})^2 + e_{GN}^2 } $"
   ]
  },
  {
   "cell_type": "code",
   "execution_count": 69,
   "id": "5115e22a",
   "metadata": {},
   "outputs": [
    {
     "name": "stdout",
     "output_type": "stream",
     "text": [
      "0.0010023510897043098\n",
      "0.10023510897043098\n"
     ]
    }
   ],
   "source": [
    "e = math.sqrt( math.pow(V_OSI * V_shunt + math.fabs(V_CMDS - V_CMSYS)*V_OS_cmrr + math.fabs(VS_SYS - VS_DS)*V_OS_psrr,2)+math.pow(G_err25c,2))\n",
    "print(e)\n",
    "print(e*100)"
   ]
  },
  {
   "cell_type": "markdown",
   "id": "92caf747",
   "metadata": {},
   "source": [
    "## Determine the maximum ADC gain error for $V_{SHUNT}$ measurement\n",
    "\n",
    "$G_{err\\_drift} = |\\Delta T | * 20ppm $"
   ]
  },
  {
   "cell_type": "code",
   "execution_count": 60,
   "id": "aff54c01",
   "metadata": {},
   "outputs": [
    {
     "data": {
      "text/markdown": [
       "$G_{err\\_drift}$ = 0.0019000000000000002"
      ],
      "text/plain": [
       "<IPython.core.display.Markdown object>"
      ]
     },
     "execution_count": 60,
     "metadata": {},
     "output_type": "execute_result"
    }
   ],
   "source": [
    "G_err_drift = math.fabs(T1-T2) * 20e-6\n",
    "md(\"$G_{{err\\_drift}}$ = {}\".format(G_err_drift))"
   ]
  },
  {
   "cell_type": "code",
   "execution_count": 59,
   "id": "3c84ff74",
   "metadata": {},
   "outputs": [
    {
     "data": {
      "text/markdown": [
       "$G_{err\\_total}$ = 0.0029000000000000002"
      ],
      "text/plain": [
       "<IPython.core.display.Markdown object>"
      ]
     },
     "execution_count": 59,
     "metadata": {},
     "output_type": "execute_result"
    }
   ],
   "source": [
    "G_err_total = G_err25c + G_err_drift\n",
    "md(\"$G_{{err\\_total}}$ = {}\".format(G_err_total))"
   ]
  },
  {
   "cell_type": "markdown",
   "id": "a489e5f5",
   "metadata": {},
   "source": [
    "## Convert to digital codes and calculate total error at 1 mA load"
   ]
  },
  {
   "cell_type": "markdown",
   "id": "87b49572",
   "metadata": {},
   "source": [
    "$ G_{IDEAL} = \\frac{1}{LSB_{V_{SHUNT}}} $"
   ]
  },
  {
   "cell_type": "code",
   "execution_count": 62,
   "id": "1d1a85ec",
   "metadata": {},
   "outputs": [
    {
     "data": {
      "text/markdown": [
       "$G_{IDEAL}$ = 3205128.2051282055"
      ],
      "text/plain": [
       "<IPython.core.display.Markdown object>"
      ]
     },
     "execution_count": 62,
     "metadata": {},
     "output_type": "execute_result"
    }
   ],
   "source": [
    "G_IDEAL = 1/LSB_Vshunt\n",
    "md(\"$G_{{IDEAL}}$ = {}\".format(G_IDEAL))"
   ]
  },
  {
   "cell_type": "code",
   "execution_count": null,
   "id": "10663aa6",
   "metadata": {},
   "outputs": [],
   "source": []
  }
 ],
 "metadata": {
  "kernelspec": {
   "display_name": "Python 3 (ipykernel)",
   "language": "python",
   "name": "python3"
  },
  "language_info": {
   "codemirror_mode": {
    "name": "ipython",
    "version": 3
   },
   "file_extension": ".py",
   "mimetype": "text/x-python",
   "name": "python",
   "nbconvert_exporter": "python",
   "pygments_lexer": "ipython3",
   "version": "3.9.12"
  }
 },
 "nbformat": 4,
 "nbformat_minor": 5
}
